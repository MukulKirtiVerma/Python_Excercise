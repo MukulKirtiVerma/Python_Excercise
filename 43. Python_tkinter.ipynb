{
 "cells": [
  {
   "cell_type": "code",
   "execution_count": 1,
   "metadata": {},
   "outputs": [],
   "source": [
    "import tkinter as Tk\n",
    "from tkinter import *"
   ]
  },
  {
   "cell_type": "code",
   "execution_count": 2,
   "metadata": {},
   "outputs": [],
   "source": [
    "#canvas\n",
    "#create line\n",
    "from tkinter import *\n",
    "master = Tk()\n",
    "canvas_width = 80\n",
    "canvas_height = 40\n",
    "w = Canvas(master, \n",
    "           width=canvas_width,\n",
    "           height=canvas_height)\n",
    "w.pack(fill=BOTH)\n",
    "y = int(canvas_height / 2)\n",
    "w.create_line(0, 0, 80, 40, fill=\"#476042\")\n",
    "mainloop()"
   ]
  },
  {
   "cell_type": "code",
   "execution_count": 3,
   "metadata": {},
   "outputs": [],
   "source": [
    "#box and line\n",
    "master = Tk()\n",
    "w = Canvas(master, width=200, height=100)\n",
    "w.pack()\n",
    "w.create_line(0, 0, 200, 100)\n",
    "w.create_line(0, 100, 200, 0, fill=\"red\", dash=(4, 4))\n",
    "w.create_rectangle(50, 25, 150, 75, fill=\"blue\")\n",
    "\n",
    "mainloop()\n"
   ]
  },
  {
   "cell_type": "code",
   "execution_count": 8,
   "metadata": {},
   "outputs": [],
   "source": [
    "#example\n",
    "master = Tk()\n",
    "w = Canvas(master, width=200, height=100)\n",
    "w.pack()\n",
    "w.create_line(0, 0, 200, 100)\n",
    "w.create_line(0, 100, 200, 0, fill=\"red\", dash=(4, 4))\n",
    "w.create_rectangle(50, 25, 150, 75, fill=\"blue\")\n",
    "xy=(9,9,5,5)\n",
    "new_xy=(6,6,7,7)\n",
    "i = w.create_line(xy, fill=\"red\")\n",
    "w.coords(i, new_xy) # change coordinates\n",
    "w.itemconfig(i, fill=\"blue\") # change color\n",
    "w.delete(i) # remove\n",
    "w.delete(ALL)\n",
    "mainloop()"
   ]
  },
  {
   "cell_type": "code",
   "execution_count": 9,
   "metadata": {},
   "outputs": [],
   "source": [
    "#line box\n",
    "master = Tk()\n",
    "\n",
    "w = Canvas(master, width=200, height=100)\n",
    "w.pack()\n",
    "\n",
    "w.create_rectangle(50, 20, 150, 80, fill=\"#476042\")\n",
    "w.create_rectangle(65, 35, 135, 65, fill=\"yellow\")\n",
    "w.create_line(0, 0, 50, 20, fill=\"#476042\", width=3)\n",
    "w.create_line(0, 100, 50, 80, fill=\"#476042\", width=3)\n",
    "w.create_line(150,20, 200, 0, fill=\"#476042\", width=3)\n",
    "w.create_line(150, 80, 200, 100, fill=\"#476042\", width=3)\n",
    "\n",
    "mainloop()"
   ]
  },
  {
   "cell_type": "code",
   "execution_count": 11,
   "metadata": {},
   "outputs": [],
   "source": [
    "#ovel\n",
    "#C.create_oval ( x0, y0, x1, y1, option, ... )\n",
    "from tkinter import *\n",
    "canvas_width = 190\n",
    "canvas_height =150\n",
    "master = Tk()\n",
    "w = Canvas(master, \n",
    "           width=canvas_width, \n",
    "           height=canvas_height)\n",
    "w.pack()\n",
    "w.create_oval(60,60,100,80)\n",
    "mainloop()"
   ]
  },
  {
   "cell_type": "code",
   "execution_count": 13,
   "metadata": {},
   "outputs": [],
   "source": [
    "\n",
    "#Drawing Polygons\n",
    "#create_polygon(x0,y0, x1,y1, x2,y2, ...) \n",
    "from tkinter import *\n",
    "\n",
    "canvas_width = 200\n",
    "canvas_height =200\n",
    "python_green = \"#476042\"\n",
    "\n",
    "master = Tk()\n",
    "\n",
    "w = Canvas(master, \n",
    "           width=canvas_width, \n",
    "           height=canvas_height)\n",
    "w.pack()\n",
    "\n",
    "points = [0,0,canvas_width,canvas_height/2, 0, canvas_height]\n",
    "w.create_polygon(points, outline=python_green, \n",
    "            fill='yellow', width=3)\n",
    "\n",
    "mainloop()"
   ]
  },
  {
   "cell_type": "code",
   "execution_count": null,
   "metadata": {},
   "outputs": [],
   "source": [
    "\n",
    "#The Canvas Image Item\n",
    "\n",
    "from tkinter import *\n",
    "master = Tk()\n",
    "w = Canvas(master)\n",
    "w.pack()\n",
    "img=PhotoImage(file=r\"python_logo.gif\")\n",
    "w.create_image(20,20, image=img)\n",
    "mainloop()"
   ]
  }
 ],
 "metadata": {
  "kernelspec": {
   "display_name": "Python 3",
   "language": "python",
   "name": "python3"
  },
  "language_info": {
   "codemirror_mode": {
    "name": "ipython",
    "version": 3
   },
   "file_extension": ".py",
   "mimetype": "text/x-python",
   "name": "python",
   "nbconvert_exporter": "python",
   "pygments_lexer": "ipython3",
   "version": "3.7.4"
  }
 },
 "nbformat": 4,
 "nbformat_minor": 2
}
